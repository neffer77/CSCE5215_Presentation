{
 "cells": [
  {
   "cell_type": "code",
   "execution_count": 1,
   "metadata": {
    "id": "j32V6YMV7RJB"
   },
   "outputs": [],
   "source": [
    "from keras.models import Sequential\n",
    "from keras.layers import Conv2D\n",
    "from keras.layers import MaxPooling2D\n",
    "from keras.layers import Flatten\n",
    "from keras.layers import Dense\n",
    "from keras.layers import Dropout\n",
    "from keras.layers import Activation"
   ]
  },
  {
   "cell_type": "code",
   "execution_count": 2,
   "metadata": {
    "id": "HALXH7JC8EAc"
   },
   "outputs": [],
   "source": [
    "classifier = Sequential()\n",
    "classifier.add(Conv2D(32, (3, 3), input_shape = (200, 200, 3), activation = 'relu'))\n",
    "classifier.add(Conv2D(32, (3, 3), activation = 'relu'))\n",
    "classifier.add(MaxPooling2D(pool_size=(2, 2)))\n",
    "#classifier.add(Dropout(0.2))\n",
    "\n",
    "classifier.add(Conv2D(64, (3, 3), activation = 'relu'))\n",
    "classifier.add(MaxPooling2D(pool_size=(2, 2)))\n",
    "#classifier.add(Dropout(0.2))\n",
    "classifier.add(Conv2D(64, (3, 3), activation = 'relu'))\n",
    "classifier.add(MaxPooling2D(pool_size=(2, 2)))\n",
    "\n",
    "classifier.add(Flatten())"
   ]
  },
  {
   "cell_type": "code",
   "execution_count": 3,
   "metadata": {
    "id": "gO7y06tV_ce6"
   },
   "outputs": [],
   "source": [
    "classifier.add(Dense(units = 128, activation = 'relu'))\n",
    "classifier.add(Dense(units = 128, activation = 'relu'))\n",
    "classifier.add(Dense(units = 128, activation = 'relu'))"
   ]
  },
  {
   "cell_type": "code",
   "execution_count": 4,
   "metadata": {
    "id": "_D4Zx1wn_4yy"
   },
   "outputs": [],
   "source": [
    "classifier.add(Dropout(0.5))"
   ]
  },
  {
   "cell_type": "code",
   "execution_count": 5,
   "metadata": {
    "id": "kTIqq_tMBXbf"
   },
   "outputs": [],
   "source": [
    "classifier.add(Dense(1))\n",
    "classifier.add(Activation('sigmoid'))"
   ]
  },
  {
   "cell_type": "code",
   "execution_count": 6,
   "metadata": {
    "id": "D-UUsF23Bn0-"
   },
   "outputs": [],
   "source": [
    "classifier.compile(optimizer = 'Ftrl', loss = 'binary_crossentropy', metrics = ['accuracy'])"
   ]
  },
  {
   "cell_type": "code",
   "execution_count": 7,
   "metadata": {
    "id": "E91Cm0C7Gae0"
   },
   "outputs": [],
   "source": [
    "#create train and test directories"
   ]
  },
  {
   "cell_type": "code",
   "execution_count": 8,
   "metadata": {
    "colab": {
     "base_uri": "https://localhost:8080/",
     "height": 426
    },
    "id": "neQHErHwFPFC",
    "outputId": "8a156e79-ff93-4aa0-8647-055ea4d4b8b5"
   },
   "outputs": [
    {
     "name": "stdout",
     "output_type": "stream",
     "text": [
      "Found 659 images belonging to 2 classes.\n",
      "Found 281 images belonging to 2 classes.\n",
      "{'class0': 0, 'class1': 1}\n"
     ]
    }
   ],
   "source": [
    "from keras.preprocessing.image import ImageDataGenerator\n",
    "\n",
    "train_datagen = ImageDataGenerator(rescale = 1./255,\n",
    "                                   shear_range = 0.2,\n",
    "                                   zoom_range = 0.2,\n",
    "                                   horizontal_flip = True)\n",
    "\n",
    "test_datagen = ImageDataGenerator(rescale = 1./255)\n",
    "\n",
    "training_set = train_datagen.flow_from_directory('C:\\\\Users\\\\conno\\\\OneDrive\\\\Desktop\\\\Tools\\\\google-images-download\\\\images\\\\train',\n",
    "                                                 target_size = (200, 200),\n",
    "                                                 batch_size = 32,\n",
    "                                                 shuffle = True, \n",
    "                                                 class_mode = \"binary\")\n",
    "\n",
    "test_set = test_datagen.flow_from_directory('C:\\\\Users\\\\conno\\\\OneDrive\\\\Desktop\\\\Tools\\\\google-images-download\\\\images\\\\test',\n",
    "                                            target_size = (200, 200),\n",
    "                                            batch_size = 32,\n",
    "                                            shuffle = True,\n",
    "                                            class_mode = \"binary\")\n",
    "print(training_set.class_indices)"
   ]
  },
  {
   "cell_type": "code",
   "execution_count": 9,
   "metadata": {
    "id": "laMIm184M-B-"
   },
   "outputs": [
    {
     "name": "stderr",
     "output_type": "stream",
     "text": [
      "C:\\Users\\conno\\AppData\\Local\\Temp/ipykernel_2820/1151076421.py:1: UserWarning: `Model.fit_generator` is deprecated and will be removed in a future version. Please use `Model.fit`, which supports generators.\n",
      "  history = classifier.fit_generator(training_set,\n"
     ]
    },
    {
     "name": "stdout",
     "output_type": "stream",
     "text": [
      "Epoch 1/50\n",
      "20/20 [==============================] - 190s 9s/step - loss: 0.6930 - accuracy: 0.4880 - val_loss: 0.6931 - val_accuracy: 0.4883\n",
      "Epoch 2/50\n",
      "20/20 [==============================] - 179s 9s/step - loss: 0.6932 - accuracy: 0.4801 - val_loss: 0.6931 - val_accuracy: 0.5039\n",
      "Epoch 3/50\n",
      "20/20 [==============================] - 180s 9s/step - loss: 0.6932 - accuracy: 0.4817 - val_loss: 0.6931 - val_accuracy: 0.5000\n",
      "Epoch 4/50\n",
      "20/20 [==============================] - 152s 7s/step - loss: 0.6932 - accuracy: 0.4864 - val_loss: 0.6931 - val_accuracy: 0.5039\n",
      "Epoch 5/50\n",
      "20/20 [==============================] - 181s 9s/step - loss: 0.6932 - accuracy: 0.5056 - val_loss: 0.6932 - val_accuracy: 0.4922\n",
      "Epoch 6/50\n",
      "20/20 [==============================] - 198s 10s/step - loss: 0.6932 - accuracy: 0.4928 - val_loss: 0.6931 - val_accuracy: 0.5078\n",
      "Epoch 7/50\n",
      "20/20 [==============================] - 182s 9s/step - loss: 0.6932 - accuracy: 0.4944 - val_loss: 0.6931 - val_accuracy: 0.5078\n",
      "Epoch 8/50\n",
      "20/20 [==============================] - 168s 8s/step - loss: 0.6932 - accuracy: 0.4545 - val_loss: 0.6931 - val_accuracy: 0.5000\n",
      "Epoch 9/50\n",
      "20/20 [==============================] - 160s 8s/step - loss: 0.6932 - accuracy: 0.4753 - val_loss: 0.6931 - val_accuracy: 0.5078\n",
      "Epoch 10/50\n",
      "20/20 [==============================] - 167s 8s/step - loss: 0.6931 - accuracy: 0.4737 - val_loss: 0.6931 - val_accuracy: 0.5039\n",
      "Epoch 11/50\n",
      "20/20 [==============================] - 159s 8s/step - loss: 0.6931 - accuracy: 0.5008 - val_loss: 0.6931 - val_accuracy: 0.4922\n",
      "Epoch 12/50\n",
      "20/20 [==============================] - 162s 8s/step - loss: 0.6932 - accuracy: 0.4944 - val_loss: 0.6931 - val_accuracy: 0.5000\n",
      "Epoch 13/50\n",
      "20/20 [==============================] - 157s 8s/step - loss: 0.6931 - accuracy: 0.4848 - val_loss: 0.6931 - val_accuracy: 0.5078\n",
      "Epoch 14/50\n",
      "20/20 [==============================] - 162s 8s/step - loss: 0.6931 - accuracy: 0.4673 - val_loss: 0.6931 - val_accuracy: 0.4961\n",
      "Epoch 15/50\n",
      "20/20 [==============================] - 157s 8s/step - loss: 0.6931 - accuracy: 0.4833 - val_loss: 0.6931 - val_accuracy: 0.4922\n",
      "Epoch 16/50\n",
      "20/20 [==============================] - 157s 8s/step - loss: 0.6931 - accuracy: 0.4577 - val_loss: 0.6931 - val_accuracy: 0.5000\n",
      "Epoch 17/50\n",
      "20/20 [==============================] - 162s 8s/step - loss: 0.6931 - accuracy: 0.4737 - val_loss: 0.6931 - val_accuracy: 0.4883\n",
      "Epoch 18/50\n",
      "20/20 [==============================] - 160s 8s/step - loss: 0.6931 - accuracy: 0.4705 - val_loss: 0.6931 - val_accuracy: 0.5078\n",
      "Epoch 19/50\n",
      "20/20 [==============================] - 161s 8s/step - loss: 0.6932 - accuracy: 0.4976 - val_loss: 0.6931 - val_accuracy: 0.4883\n",
      "Epoch 20/50\n",
      "20/20 [==============================] - 160s 8s/step - loss: 0.6931 - accuracy: 0.4992 - val_loss: 0.6931 - val_accuracy: 0.4922\n",
      "Epoch 21/50\n",
      "20/20 [==============================] - 156s 8s/step - loss: 0.6932 - accuracy: 0.4833 - val_loss: 0.6931 - val_accuracy: 0.5000\n",
      "Epoch 22/50\n",
      "20/20 [==============================] - 203s 10s/step - loss: 0.6931 - accuracy: 0.4880 - val_loss: 0.6931 - val_accuracy: 0.5078\n",
      "Epoch 23/50\n",
      "20/20 [==============================] - 207s 10s/step - loss: 0.6931 - accuracy: 0.4976 - val_loss: 0.6931 - val_accuracy: 0.5039\n",
      "Epoch 24/50\n",
      "20/20 [==============================] - 192s 9s/step - loss: 0.6931 - accuracy: 0.5008 - val_loss: 0.6931 - val_accuracy: 0.4922\n",
      "Epoch 25/50\n",
      "20/20 [==============================] - 205s 10s/step - loss: 0.6931 - accuracy: 0.5040 - val_loss: 0.6931 - val_accuracy: 0.4922\n",
      "Epoch 26/50\n",
      "20/20 [==============================] - 189s 9s/step - loss: 0.6931 - accuracy: 0.4912 - val_loss: 0.6931 - val_accuracy: 0.5078\n",
      "Epoch 27/50\n",
      "20/20 [==============================] - 160s 8s/step - loss: 0.6931 - accuracy: 0.4625 - val_loss: 0.6931 - val_accuracy: 0.4805\n",
      "Epoch 28/50\n",
      "20/20 [==============================] - 161s 8s/step - loss: 0.6931 - accuracy: 0.4976 - val_loss: 0.6931 - val_accuracy: 0.5039\n",
      "Epoch 29/50\n",
      "20/20 [==============================] - 166s 8s/step - loss: 0.6932 - accuracy: 0.4828 - val_loss: 0.6931 - val_accuracy: 0.5312\n",
      "Epoch 30/50\n",
      "20/20 [==============================] - 164s 8s/step - loss: 0.6931 - accuracy: 0.4944 - val_loss: 0.6931 - val_accuracy: 0.5039\n",
      "Epoch 31/50\n",
      "20/20 [==============================] - 157s 8s/step - loss: 0.6931 - accuracy: 0.4992 - val_loss: 0.6931 - val_accuracy: 0.5000\n",
      "Epoch 32/50\n",
      "20/20 [==============================] - 164s 8s/step - loss: 0.6931 - accuracy: 0.4833 - val_loss: 0.6931 - val_accuracy: 0.5039\n",
      "Epoch 33/50\n",
      "20/20 [==============================] - 161s 8s/step - loss: 0.6931 - accuracy: 0.4960 - val_loss: 0.6931 - val_accuracy: 0.5039\n",
      "Epoch 34/50\n",
      "20/20 [==============================] - 158s 8s/step - loss: 0.6931 - accuracy: 0.4753 - val_loss: 0.6931 - val_accuracy: 0.4961\n",
      "Epoch 35/50\n",
      "20/20 [==============================] - 161s 8s/step - loss: 0.6931 - accuracy: 0.4912 - val_loss: 0.6931 - val_accuracy: 0.5078\n",
      "Epoch 36/50\n",
      "20/20 [==============================] - 160s 8s/step - loss: 0.6931 - accuracy: 0.4593 - val_loss: 0.6931 - val_accuracy: 0.5000\n",
      "Epoch 37/50\n",
      "20/20 [==============================] - 196s 10s/step - loss: 0.6931 - accuracy: 0.5056 - val_loss: 0.6931 - val_accuracy: 0.4844\n",
      "Epoch 38/50\n",
      "20/20 [==============================] - 206s 10s/step - loss: 0.6931 - accuracy: 0.5024 - val_loss: 0.6931 - val_accuracy: 0.4883\n",
      "Epoch 39/50\n",
      "20/20 [==============================] - 205s 10s/step - loss: 0.6931 - accuracy: 0.4976 - val_loss: 0.6931 - val_accuracy: 0.5039\n",
      "Epoch 40/50\n",
      "20/20 [==============================] - 199s 10s/step - loss: 0.6931 - accuracy: 0.5008 - val_loss: 0.6931 - val_accuracy: 0.4766\n",
      "Epoch 41/50\n",
      "20/20 [==============================] - 201s 10s/step - loss: 0.6931 - accuracy: 0.5024 - val_loss: 0.6931 - val_accuracy: 0.5039\n",
      "Epoch 42/50\n",
      "20/20 [==============================] - 202s 10s/step - loss: 0.6931 - accuracy: 0.4992 - val_loss: 0.6931 - val_accuracy: 0.5039\n",
      "Epoch 43/50\n",
      "20/20 [==============================] - 180s 9s/step - loss: 0.6931 - accuracy: 0.5008 - val_loss: 0.6931 - val_accuracy: 0.4922\n",
      "Epoch 44/50\n",
      "20/20 [==============================] - 194s 10s/step - loss: 0.6931 - accuracy: 0.4976 - val_loss: 0.6931 - val_accuracy: 0.5000\n",
      "Epoch 45/50\n",
      "20/20 [==============================] - 5779s 304s/step - loss: 0.6931 - accuracy: 0.5136 - val_loss: 0.6931 - val_accuracy: 0.5000\n",
      "Epoch 46/50\n",
      "20/20 [==============================] - 177s 9s/step - loss: 0.6931 - accuracy: 0.5008 - val_loss: 0.6931 - val_accuracy: 0.5195\n",
      "Epoch 47/50\n",
      "20/20 [==============================] - 151s 8s/step - loss: 0.6931 - accuracy: 0.5008 - val_loss: 0.6931 - val_accuracy: 0.4922\n",
      "Epoch 48/50\n",
      "20/20 [==============================] - 116s 6s/step - loss: 0.6931 - accuracy: 0.4976 - val_loss: 0.6931 - val_accuracy: 0.5000\n",
      "Epoch 49/50\n",
      "20/20 [==============================] - 82s 4s/step - loss: 0.6931 - accuracy: 0.5000 - val_loss: 0.6931 - val_accuracy: 0.4961\n",
      "Epoch 50/50\n",
      "20/20 [==============================] - 98s 5s/step - loss: 0.6931 - accuracy: 0.5024 - val_loss: 0.6931 - val_accuracy: 0.5156\n"
     ]
    }
   ],
   "source": [
    "history = classifier.fit_generator(training_set,\n",
    "                         steps_per_epoch = 20,\n",
    "                         epochs = 50,\n",
    "                         validation_data = test_set,\n",
    "                         validation_steps = 8)"
   ]
  },
  {
   "cell_type": "code",
   "execution_count": null,
   "metadata": {},
   "outputs": [],
   "source": []
  }
 ],
 "metadata": {
  "colab": {
   "provenance": []
  },
  "kernelspec": {
   "display_name": "Python 3 (ipykernel)",
   "language": "python",
   "name": "python3"
  },
  "language_info": {
   "codemirror_mode": {
    "name": "ipython",
    "version": 3
   },
   "file_extension": ".py",
   "mimetype": "text/x-python",
   "name": "python",
   "nbconvert_exporter": "python",
   "pygments_lexer": "ipython3",
   "version": "3.9.7"
  }
 },
 "nbformat": 4,
 "nbformat_minor": 4
}
