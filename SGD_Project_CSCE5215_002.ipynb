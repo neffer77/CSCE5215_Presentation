{
 "cells": [
  {
   "cell_type": "code",
   "execution_count": 1,
   "metadata": {
    "id": "j32V6YMV7RJB"
   },
   "outputs": [],
   "source": [
    "from keras.models import Sequential\n",
    "from keras.layers import Conv2D\n",
    "from keras.layers import MaxPooling2D\n",
    "from keras.layers import Flatten\n",
    "from keras.layers import Dense\n",
    "from keras.layers import Dropout\n",
    "from keras.layers import Activation"
   ]
  },
  {
   "cell_type": "code",
   "execution_count": 2,
   "metadata": {
    "id": "HALXH7JC8EAc"
   },
   "outputs": [],
   "source": [
    "classifier = Sequential()\n",
    "classifier.add(Conv2D(32, (3, 3), input_shape = (200, 200, 3), activation = 'relu'))\n",
    "classifier.add(Conv2D(32, (3, 3), activation = 'relu'))\n",
    "classifier.add(MaxPooling2D(pool_size=(2, 2)))\n",
    "#classifier.add(Dropout(0.2))\n",
    "\n",
    "classifier.add(Conv2D(64, (3, 3), activation = 'relu'))\n",
    "classifier.add(MaxPooling2D(pool_size=(2, 2)))\n",
    "#classifier.add(Dropout(0.2))\n",
    "classifier.add(Conv2D(64, (3, 3), activation = 'relu'))\n",
    "classifier.add(MaxPooling2D(pool_size=(2, 2)))\n",
    "\n",
    "classifier.add(Flatten())"
   ]
  },
  {
   "cell_type": "code",
   "execution_count": 3,
   "metadata": {
    "id": "gO7y06tV_ce6"
   },
   "outputs": [],
   "source": [
    "classifier.add(Dense(units = 128, activation = 'relu'))\n",
    "classifier.add(Dense(units = 128, activation = 'relu'))\n",
    "classifier.add(Dense(units = 128, activation = 'relu'))"
   ]
  },
  {
   "cell_type": "code",
   "execution_count": 4,
   "metadata": {
    "id": "_D4Zx1wn_4yy"
   },
   "outputs": [],
   "source": [
    "classifier.add(Dropout(0.5))"
   ]
  },
  {
   "cell_type": "code",
   "execution_count": 5,
   "metadata": {
    "id": "kTIqq_tMBXbf"
   },
   "outputs": [],
   "source": [
    "classifier.add(Dense(1))\n",
    "classifier.add(Activation('sigmoid'))"
   ]
  },
  {
   "cell_type": "code",
   "execution_count": 6,
   "metadata": {
    "id": "D-UUsF23Bn0-"
   },
   "outputs": [],
   "source": [
    "classifier.compile(optimizer = 'SGD', loss = 'binary_crossentropy', metrics = ['accuracy'])"
   ]
  },
  {
   "cell_type": "code",
   "execution_count": 7,
   "metadata": {
    "id": "E91Cm0C7Gae0"
   },
   "outputs": [],
   "source": [
    "#create train and test directories"
   ]
  },
  {
   "cell_type": "code",
   "execution_count": 8,
   "metadata": {
    "colab": {
     "base_uri": "https://localhost:8080/",
     "height": 426
    },
    "id": "neQHErHwFPFC",
    "outputId": "8a156e79-ff93-4aa0-8647-055ea4d4b8b5"
   },
   "outputs": [
    {
     "name": "stdout",
     "output_type": "stream",
     "text": [
      "Found 659 images belonging to 2 classes.\n",
      "Found 281 images belonging to 2 classes.\n",
      "{'class0': 0, 'class1': 1}\n"
     ]
    }
   ],
   "source": [
    "from keras.preprocessing.image import ImageDataGenerator\n",
    "\n",
    "train_datagen = ImageDataGenerator(rescale = 1./255,\n",
    "                                   shear_range = 0.2,\n",
    "                                   zoom_range = 0.2,\n",
    "                                   horizontal_flip = True)\n",
    "\n",
    "test_datagen = ImageDataGenerator(rescale = 1./255)\n",
    "\n",
    "training_set = train_datagen.flow_from_directory('C:\\\\Users\\\\conno\\\\OneDrive\\\\Desktop\\\\Tools\\\\google-images-download\\\\images\\\\train',\n",
    "                                                 target_size = (200, 200),\n",
    "                                                 batch_size = 32,\n",
    "                                                 shuffle = True, \n",
    "                                                 class_mode = \"binary\")\n",
    "\n",
    "test_set = test_datagen.flow_from_directory('C:\\\\Users\\\\conno\\\\OneDrive\\\\Desktop\\\\Tools\\\\google-images-download\\\\images\\\\test',\n",
    "                                            target_size = (200, 200),\n",
    "                                            batch_size = 32,\n",
    "                                            shuffle = True,\n",
    "                                            class_mode = \"binary\")\n",
    "print(training_set.class_indices)"
   ]
  },
  {
   "cell_type": "code",
   "execution_count": 9,
   "metadata": {
    "id": "laMIm184M-B-"
   },
   "outputs": [
    {
     "name": "stderr",
     "output_type": "stream",
     "text": [
      "C:\\Users\\conno\\AppData\\Local\\Temp/ipykernel_17136/1151076421.py:1: UserWarning: `Model.fit_generator` is deprecated and will be removed in a future version. Please use `Model.fit`, which supports generators.\n",
      "  history = classifier.fit_generator(training_set,\n"
     ]
    },
    {
     "name": "stdout",
     "output_type": "stream",
     "text": [
      "Epoch 1/50\n",
      "20/20 [==============================] - 92s 5s/step - loss: 0.6934 - accuracy: 0.5008 - val_loss: 0.6927 - val_accuracy: 0.5000\n",
      "Epoch 2/50\n",
      "20/20 [==============================] - 91s 5s/step - loss: 0.6944 - accuracy: 0.4689 - val_loss: 0.6927 - val_accuracy: 0.5039\n",
      "Epoch 3/50\n",
      "20/20 [==============================] - 161s 8s/step - loss: 0.6918 - accuracy: 0.5072 - val_loss: 0.6920 - val_accuracy: 0.5742\n",
      "Epoch 4/50\n",
      "20/20 [==============================] - 175s 9s/step - loss: 0.6916 - accuracy: 0.5455 - val_loss: 0.6916 - val_accuracy: 0.5859\n",
      "Epoch 5/50\n",
      "20/20 [==============================] - 167s 8s/step - loss: 0.6910 - accuracy: 0.5407 - val_loss: 0.6912 - val_accuracy: 0.5000\n",
      "Epoch 6/50\n",
      "20/20 [==============================] - 139s 7s/step - loss: 0.6924 - accuracy: 0.4992 - val_loss: 0.6899 - val_accuracy: 0.5547\n",
      "Epoch 7/50\n",
      "20/20 [==============================] - 168s 8s/step - loss: 0.6909 - accuracy: 0.5311 - val_loss: 0.6904 - val_accuracy: 0.5312\n",
      "Epoch 8/50\n",
      "20/20 [==============================] - 195s 10s/step - loss: 0.6894 - accuracy: 0.5407 - val_loss: 0.6884 - val_accuracy: 0.5703\n",
      "Epoch 9/50\n",
      "20/20 [==============================] - 188s 9s/step - loss: 0.6900 - accuracy: 0.5343 - val_loss: 0.6885 - val_accuracy: 0.5547\n",
      "Epoch 10/50\n",
      "20/20 [==============================] - 170s 8s/step - loss: 0.6882 - accuracy: 0.5375 - val_loss: 0.6894 - val_accuracy: 0.5234\n",
      "Epoch 11/50\n",
      "20/20 [==============================] - 165s 8s/step - loss: 0.6858 - accuracy: 0.5662 - val_loss: 0.6866 - val_accuracy: 0.5391\n",
      "Epoch 12/50\n",
      "20/20 [==============================] - 160s 8s/step - loss: 0.6871 - accuracy: 0.5598 - val_loss: 0.6873 - val_accuracy: 0.5273\n",
      "Epoch 13/50\n",
      "20/20 [==============================] - 165s 8s/step - loss: 0.6840 - accuracy: 0.5582 - val_loss: 0.6862 - val_accuracy: 0.5547\n",
      "Epoch 14/50\n",
      "20/20 [==============================] - 160s 8s/step - loss: 0.6857 - accuracy: 0.5614 - val_loss: 0.6839 - val_accuracy: 0.5625\n",
      "Epoch 15/50\n",
      "20/20 [==============================] - 156s 8s/step - loss: 0.6855 - accuracy: 0.5423 - val_loss: 0.6848 - val_accuracy: 0.5586\n",
      "Epoch 16/50\n",
      "20/20 [==============================] - 161s 8s/step - loss: 0.6861 - accuracy: 0.5439 - val_loss: 0.6826 - val_accuracy: 0.5352\n",
      "Epoch 17/50\n",
      "20/20 [==============================] - 159s 8s/step - loss: 0.6822 - accuracy: 0.5550 - val_loss: 0.6822 - val_accuracy: 0.5312\n",
      "Epoch 18/50\n",
      "20/20 [==============================] - 161s 8s/step - loss: 0.6800 - accuracy: 0.5837 - val_loss: 0.6831 - val_accuracy: 0.5391\n",
      "Epoch 19/50\n",
      "20/20 [==============================] - 166s 8s/step - loss: 0.6793 - accuracy: 0.5726 - val_loss: 0.6869 - val_accuracy: 0.5430\n",
      "Epoch 20/50\n",
      "20/20 [==============================] - 156s 8s/step - loss: 0.6820 - accuracy: 0.5742 - val_loss: 0.6816 - val_accuracy: 0.5820\n",
      "Epoch 21/50\n",
      "20/20 [==============================] - 158s 8s/step - loss: 0.6751 - accuracy: 0.5885 - val_loss: 0.6748 - val_accuracy: 0.6055\n",
      "Epoch 22/50\n",
      "20/20 [==============================] - 161s 8s/step - loss: 0.6795 - accuracy: 0.5656 - val_loss: 0.6813 - val_accuracy: 0.5547\n",
      "Epoch 23/50\n",
      "20/20 [==============================] - 162s 8s/step - loss: 0.6778 - accuracy: 0.5614 - val_loss: 0.6808 - val_accuracy: 0.5742\n",
      "Epoch 24/50\n",
      "20/20 [==============================] - 169s 8s/step - loss: 0.6759 - accuracy: 0.5805 - val_loss: 0.6791 - val_accuracy: 0.5742\n",
      "Epoch 25/50\n",
      "20/20 [==============================] - 204s 10s/step - loss: 0.6698 - accuracy: 0.5965 - val_loss: 0.6736 - val_accuracy: 0.5508\n",
      "Epoch 26/50\n",
      "20/20 [==============================] - 200s 10s/step - loss: 0.6678 - accuracy: 0.5750 - val_loss: 0.6699 - val_accuracy: 0.6016\n",
      "Epoch 27/50\n",
      "20/20 [==============================] - 196s 10s/step - loss: 0.6680 - accuracy: 0.5917 - val_loss: 0.6770 - val_accuracy: 0.5742\n",
      "Epoch 28/50\n",
      "20/20 [==============================] - 206s 10s/step - loss: 0.6699 - accuracy: 0.5949 - val_loss: 0.6694 - val_accuracy: 0.5586\n",
      "Epoch 29/50\n",
      "20/20 [==============================] - 173s 8s/step - loss: 0.6725 - accuracy: 0.5965 - val_loss: 0.6759 - val_accuracy: 0.5859\n",
      "Epoch 30/50\n",
      "20/20 [==============================] - 159s 8s/step - loss: 0.6706 - accuracy: 0.5758 - val_loss: 0.6696 - val_accuracy: 0.5820\n",
      "Epoch 31/50\n",
      "20/20 [==============================] - 166s 8s/step - loss: 0.6662 - accuracy: 0.6077 - val_loss: 0.6706 - val_accuracy: 0.5469\n",
      "Epoch 32/50\n",
      "20/20 [==============================] - 163s 8s/step - loss: 0.6644 - accuracy: 0.5885 - val_loss: 0.6699 - val_accuracy: 0.5664\n",
      "Epoch 33/50\n",
      "20/20 [==============================] - 161s 8s/step - loss: 0.6658 - accuracy: 0.5901 - val_loss: 0.6745 - val_accuracy: 0.5703\n",
      "Epoch 34/50\n",
      "20/20 [==============================] - 159s 8s/step - loss: 0.6692 - accuracy: 0.6077 - val_loss: 0.6669 - val_accuracy: 0.5781\n",
      "Epoch 35/50\n",
      "20/20 [==============================] - 161s 8s/step - loss: 0.6627 - accuracy: 0.5949 - val_loss: 0.6649 - val_accuracy: 0.5664\n",
      "Epoch 36/50\n",
      "20/20 [==============================] - 160s 8s/step - loss: 0.6614 - accuracy: 0.6093 - val_loss: 0.6614 - val_accuracy: 0.5781\n",
      "Epoch 37/50\n",
      "20/20 [==============================] - 157s 8s/step - loss: 0.6714 - accuracy: 0.5726 - val_loss: 0.6625 - val_accuracy: 0.5859\n",
      "Epoch 38/50\n",
      "20/20 [==============================] - 160s 8s/step - loss: 0.6529 - accuracy: 0.6124 - val_loss: 0.6569 - val_accuracy: 0.5977\n",
      "Epoch 39/50\n",
      "20/20 [==============================] - 158s 8s/step - loss: 0.6638 - accuracy: 0.5774 - val_loss: 0.6717 - val_accuracy: 0.5703\n",
      "Epoch 40/50\n",
      "20/20 [==============================] - 210s 10s/step - loss: 0.6496 - accuracy: 0.6300 - val_loss: 0.6692 - val_accuracy: 0.5664\n",
      "Epoch 41/50\n",
      "20/20 [==============================] - 205s 10s/step - loss: 0.6691 - accuracy: 0.5821 - val_loss: 0.6694 - val_accuracy: 0.5859\n",
      "Epoch 42/50\n",
      "20/20 [==============================] - 210s 10s/step - loss: 0.6557 - accuracy: 0.6124 - val_loss: 0.6695 - val_accuracy: 0.6016\n",
      "Epoch 43/50\n",
      "20/20 [==============================] - 190s 9s/step - loss: 0.6548 - accuracy: 0.6124 - val_loss: 0.6601 - val_accuracy: 0.5820\n",
      "Epoch 44/50\n",
      "20/20 [==============================] - 201s 10s/step - loss: 0.6627 - accuracy: 0.6124 - val_loss: 0.6647 - val_accuracy: 0.5859\n",
      "Epoch 45/50\n",
      "20/20 [==============================] - 207s 10s/step - loss: 0.6574 - accuracy: 0.6156 - val_loss: 0.6576 - val_accuracy: 0.5859\n",
      "Epoch 46/50\n",
      "20/20 [==============================] - 165s 8s/step - loss: 0.6592 - accuracy: 0.6156 - val_loss: 0.6601 - val_accuracy: 0.5859\n",
      "Epoch 47/50\n",
      "20/20 [==============================] - 183s 9s/step - loss: 0.6442 - accuracy: 0.6268 - val_loss: 0.6612 - val_accuracy: 0.5820\n",
      "Epoch 48/50\n",
      "20/20 [==============================] - 5794s 305s/step - loss: 0.6526 - accuracy: 0.6252 - val_loss: 0.6701 - val_accuracy: 0.5703\n",
      "Epoch 49/50\n",
      "20/20 [==============================] - 167s 8s/step - loss: 0.6511 - accuracy: 0.5917 - val_loss: 0.6588 - val_accuracy: 0.5820\n",
      "Epoch 50/50\n",
      "20/20 [==============================] - 154s 8s/step - loss: 0.6392 - accuracy: 0.6348 - val_loss: 0.6719 - val_accuracy: 0.5781\n"
     ]
    }
   ],
   "source": [
    "history = classifier.fit_generator(training_set,\n",
    "                         steps_per_epoch = 20,\n",
    "                         epochs = 50,\n",
    "                         validation_data = test_set,\n",
    "                         validation_steps = 8)"
   ]
  },
  {
   "cell_type": "code",
   "execution_count": null,
   "metadata": {},
   "outputs": [],
   "source": []
  }
 ],
 "metadata": {
  "colab": {
   "provenance": []
  },
  "kernelspec": {
   "display_name": "Python 3 (ipykernel)",
   "language": "python",
   "name": "python3"
  },
  "language_info": {
   "codemirror_mode": {
    "name": "ipython",
    "version": 3
   },
   "file_extension": ".py",
   "mimetype": "text/x-python",
   "name": "python",
   "nbconvert_exporter": "python",
   "pygments_lexer": "ipython3",
   "version": "3.9.7"
  }
 },
 "nbformat": 4,
 "nbformat_minor": 4
}
